{
 "cells": [
  {
   "attachments": {},
   "cell_type": "markdown",
   "id": "118fb690",
   "metadata": {},
   "source": [
    "# 0. 环境安装与配置(练习1.5)\n",
    "## 0.1 Python环境配置\n",
    "+ https://docs.anaconda.com/anaconda/install/windows/\n",
    "+ https://docs.anaconda.com/free/anaconda/install/mac-os/\n",
    "+ https://docs.anaconda.com/anaconda/install/linux/\n",
    "\n",
    "https://anaconda.org/conda-forge/keras\n",
    "https://scikit-learn.org/stable/install.html\n",
    "\n",
    "## 0.2 R环境配置\n",
    "+ https://www.rstudio.com/\n",
    "+ https://cran.r-project.org/web/packages/caret/vignettes/caret.html\n",
    "+ https://keras.rstudio.com/reference/install_keras.html"
   ]
  },
  {
   "attachments": {},
   "cell_type": "markdown",
   "id": "ffd0dcc6",
   "metadata": {},
   "source": [
    "# 1. Numpy基础"
   ]
  },
  {
   "cell_type": "code",
   "execution_count": 52,
   "id": "0e876d70",
   "metadata": {},
   "outputs": [
    {
     "name": "stdout",
     "output_type": "stream",
     "text": [
      "[0 1 2 3 4 5] a\n",
      "[[ 0  1  2]\n",
      " [ 3  4  5]\n",
      " [ 6  7  8]\n",
      " [ 9 10 11]] b\n",
      "[[[ 0  1  2  3]\n",
      "  [ 4  5  6  7]\n",
      "  [ 8  9 10 11]]\n",
      "\n",
      " [[12 13 14 15]\n",
      "  [16 17 18 19]\n",
      "  [20 21 22 23]]] c\n"
     ]
    }
   ],
   "source": [
    "# 引入numpy包\n",
    "import numpy as np\n",
    "\n",
    "# 定义一维数组\n",
    "a = np.arange(6)\n",
    "print(a,'a')\n",
    "# 定义二维数组\n",
    "b = np.arange(12).reshape(4,3)\n",
    "print(b,'b')\n",
    "# 定义三维数组\n",
    "c = np.arange(24).reshape(2,3,4)\n",
    "print(c,'c')"
   ]
  },
  {
   "cell_type": "code",
   "execution_count": 53,
   "id": "23279260",
   "metadata": {},
   "outputs": [
    {
     "name": "stdout",
     "output_type": "stream",
     "text": [
      "[[7 7]\n",
      " [7 7]]\n",
      "[[1. 0. 0. 0.]\n",
      " [0. 1. 0. 0.]\n",
      " [0. 0. 1. 0.]\n",
      " [0. 0. 0. 1.]]\n",
      "[[0.99577289 0.56480434]\n",
      " [0.41112328 0.98298324]]\n"
     ]
    }
   ],
   "source": [
    "# 特殊矩阵\n",
    "# 全0矩阵\n",
    "a = np.zeros((2,2))\n",
    "# 全1矩阵\n",
    "b = np.ones((1,2))\n",
    "# 常数矩阵\n",
    "c = np.full((2,2),7)\n",
    "print(c)\n",
    "# 单位矩阵\n",
    "d = np.eye(4)\n",
    "print(d)\n",
    "# 随机矩阵\n",
    "e = np.random.random((2,2))\n",
    "print(e)"
   ]
  },
  {
   "cell_type": "code",
   "execution_count": 54,
   "id": "87b1264f",
   "metadata": {},
   "outputs": [
    {
     "name": "stdout",
     "output_type": "stream",
     "text": [
      "[[ 1  2  3  4]\n",
      " [ 5  6  7  8]\n",
      " [ 9 10 11 12]]\n",
      "[[2 3]\n",
      " [6 7]]\n",
      "2\n",
      "77\n",
      "77\n",
      "-1\n"
     ]
    }
   ],
   "source": [
    "# 初始化3*4的矩阵\n",
    "a = np.array([[1,2,3,4], [5,6,7,8], [9,10,11,12]])\n",
    "print(a)\n",
    "# 矩阵索引\n",
    "b = a[:2, 1:3]\n",
    "print(b)\n",
    "# 矩阵索引\n",
    "print(a[0, 1]) # Prints \"2\"\n",
    "b[0, 0] = 77 # 矩阵赋值\n",
    "print(a[0, 1]) # Prints \"77\"\n",
    "\n",
    "# 深度拷贝\n",
    "c = a.copy()\n",
    "c[0,1] = -1\n",
    "print(a[0,1])\n",
    "print(c[0,1])"
   ]
  },
  {
   "cell_type": "code",
   "execution_count": 55,
   "id": "b2d280b2",
   "metadata": {},
   "outputs": [
    {
     "name": "stdout",
     "output_type": "stream",
     "text": [
      "[[ 1  2  3  4]\n",
      " [ 5  6  7  8]\n",
      " [ 9 10 11 12]]\n",
      "a的第1行\n",
      "(3, 4)\n",
      "================\n"
     ]
    },
    {
     "ename": "IndexError",
     "evalue": "index 3 is out of bounds for axis 0 with size 3",
     "output_type": "error",
     "traceback": [
      "\u001b[1;31m---------------------------------------------------------------------------\u001b[0m",
      "\u001b[1;31mIndexError\u001b[0m                                Traceback (most recent call last)",
      "\u001b[1;32me:\\Projects\\math5836\\Week0.ipynb 单元格 6\u001b[0m in \u001b[0;36m<cell line: 7>\u001b[1;34m()\u001b[0m\n\u001b[0;32m      <a href='vscode-notebook-cell:/e%3A/Projects/math5836/Week0.ipynb#W3sZmlsZQ%3D%3D?line=4'>5</a>\u001b[0m \u001b[39mprint\u001b[39m(a\u001b[39m.\u001b[39mshape)\n\u001b[0;32m      <a href='vscode-notebook-cell:/e%3A/Projects/math5836/Week0.ipynb#W3sZmlsZQ%3D%3D?line=5'>6</a>\u001b[0m \u001b[39mprint\u001b[39m(\u001b[39m\"\u001b[39m\u001b[39m================\u001b[39m\u001b[39m\"\u001b[39m)\n\u001b[1;32m----> <a href='vscode-notebook-cell:/e%3A/Projects/math5836/Week0.ipynb#W3sZmlsZQ%3D%3D?line=6'>7</a>\u001b[0m \u001b[39mprint\u001b[39m(a[\u001b[39m3\u001b[39;49m,:])\n\u001b[0;32m      <a href='vscode-notebook-cell:/e%3A/Projects/math5836/Week0.ipynb#W3sZmlsZQ%3D%3D?line=7'>8</a>\u001b[0m row_r2 \u001b[39m=\u001b[39m a[\u001b[39m1\u001b[39m:\u001b[39m2\u001b[39m, :]\n\u001b[0;32m      <a href='vscode-notebook-cell:/e%3A/Projects/math5836/Week0.ipynb#W3sZmlsZQ%3D%3D?line=8'>9</a>\u001b[0m \u001b[39mprint\u001b[39m(\u001b[39m\"\u001b[39m\u001b[39ma的第1到3行\u001b[39m\u001b[39m\"\u001b[39m)\n",
      "\u001b[1;31mIndexError\u001b[0m: index 3 is out of bounds for axis 0 with size 3"
     ]
    }
   ],
   "source": [
    "a = np.array([[1,2,3,4], [5,6,7,8], [9,10,11,12]])\n",
    "print(a)\n",
    "row_r1 = a[1, :]\n",
    "print(\"a的第1行\")\n",
    "print(a.shape)\n",
    "print(\"================\")\n",
    "print(a[3,:])\n",
    "row_r2 = a[1:2, :]\n",
    "print(\"a的第1到3行\")\n",
    "print(a[1:3,:])\n",
    "\n",
    "print(row_r1.shape)\n",
    "print(row_r2.shape)\n",
    "\n",
    "col_r1 = a[:, 1]\n",
    "col_r2 = a[:, 1:2]\n",
    "\n",
    "print(col_r1, col_r1.shape)\n",
    "print(col_r2, col_r2.shape)"
   ]
  },
  {
   "attachments": {},
   "cell_type": "markdown",
   "id": "888638e8",
   "metadata": {},
   "source": [
    "## 1.1 矩阵的数学运算"
   ]
  },
  {
   "cell_type": "code",
   "execution_count": null,
   "id": "3cf0bc6f",
   "metadata": {},
   "outputs": [
    {
     "name": "stdout",
     "output_type": "stream",
     "text": [
      "[[1. 2.]\n",
      " [3. 4.]]\n",
      "[[5. 6.]\n",
      " [7. 8.]]\n",
      "[[ 6.  8.]\n",
      " [10. 12.]]\n",
      "[[ 6.  8.]\n",
      " [10. 12.]]\n",
      "[[-4. -4.]\n",
      " [-4. -4.]]\n",
      "[[-4. -4.]\n",
      " [-4. -4.]]\n",
      "[[ 5. 12.]\n",
      " [21. 32.]]\n",
      "[[ 5. 12.]\n",
      " [21. 32.]]\n",
      "[[0.2        0.33333333]\n",
      " [0.42857143 0.5       ]]\n",
      "[[0.2        0.33333333]\n",
      " [0.42857143 0.5       ]]\n",
      "[[1.         1.41421356]\n",
      " [1.73205081 2.        ]]\n"
     ]
    }
   ],
   "source": [
    "x = np.array([[1,2],[3,4]], dtype=np.float64)\n",
    "y = np.array([[5,6],[7,8]], dtype=np.float64)\n",
    "print(x)\n",
    "print(y)\n",
    "# Elementwise sum; both produce the array\n",
    "# [[ 6.0 8.0]\n",
    "# [10.0 12.0]]\n",
    "print(x + y)\n",
    "print(np.add(x, y))\n",
    "# Elementwise difference; both produce the array\n",
    "# [[-4.0 -4.0]\n",
    "# [-4.0 -4.0]]\n",
    "print(x - y)\n",
    "print(np.subtract(x, y))\n",
    "# Elementwise product; both produce the array\n",
    "# [[ 5.0 12.0]\n",
    "# [21.0 32.0]]\n",
    "print(x * y)\n",
    "print(np.multiply(x, y))\n",
    "# Elementwise division; both produce the array\n",
    "# [[ 0.2 0.33333333]\n",
    "# [ 0.42857143 0.5 ]]\n",
    "print(x / y)\n",
    "print(np.divide(x, y))\n",
    "# Elementwise square root; produces the array\n",
    "# [[ 1. 1.41421356]\n",
    "# [ 1.73205081 2. ]]\n",
    "print(np.sqrt(x))"
   ]
  },
  {
   "cell_type": "code",
   "execution_count": null,
   "id": "289ae163",
   "metadata": {},
   "outputs": [
    {
     "name": "stdout",
     "output_type": "stream",
     "text": [
      "219\n",
      "219\n",
      "[29 67]\n",
      "[29 67]\n",
      "[[19 22]\n",
      " [43 50]]\n",
      "[[19 22]\n",
      " [43 50]]\n"
     ]
    }
   ],
   "source": [
    "x = np.array([[1,2],[3,4]])\n",
    "y = np.array([[5,6],[7,8]])\n",
    "v = np.array([9,10])\n",
    "w = np.array([11, 12])\n",
    "# Inner product of vectors; both produce 219\n",
    "print(v.dot(w))\n",
    "print(np.dot(v, w))\n",
    "# Matrix / vector product; both produce the rank 1 array [29 67]\n",
    "print(x.dot(v))\n",
    "print(np.dot(x, v))\n",
    "# Matrix / matrix product; both produce the rank 2 array\n",
    "# [[19 22]\n",
    "# [43 50]]\n",
    "print(x.dot(y))\n",
    "print(np.dot(x, y))"
   ]
  },
  {
   "cell_type": "code",
   "execution_count": null,
   "id": "674ff793",
   "metadata": {},
   "outputs": [
    {
     "name": "stdout",
     "output_type": "stream",
     "text": [
      "10\n",
      "[4 6]\n",
      "[3 7]\n",
      " ----------\n",
      "[[1 2]\n",
      " [3 4]]\n",
      "[[1 3]\n",
      " [2 4]]\n",
      "[1 2 3]\n",
      "[1 2 3]\n",
      " ----------\n",
      "[[ 2  2  4]\n",
      " [ 5  5  7]\n",
      " [ 8  8 10]\n",
      " [11 11 13]]\n"
     ]
    }
   ],
   "source": [
    "x = np.array([[1,2],[3,4]])\n",
    "print(np.mean(x)) # Compute sum of all elements; prints \"10\"\n",
    "print(np.mean(x, axis=0)) # Compute sum of each column; prints \"[4 6]\"\n",
    "print(np.mean(x, axis=1)) # Compute sum of each row; prints \"[3 7]\"\n",
    "print(' ----------')\n",
    "x = np.array([[1,2], [3,4]])\n",
    "print(x) # Prints \"[[1 2]\n",
    "# [3 4]]\"\n",
    "print(x.T) # Prints \"[[1 3]\n",
    "# [2 4]]\"\n",
    "# Note that taking the transpose of a rank 1 array does nothing:\n",
    "v = np.array([1,2,3])\n",
    "print(v) # Prints \"[1 2 3]\"\n",
    "print(v.T) # Prints \"[1 2 3]\"\n",
    "print(' ----------')\n",
    "# We will add the vector v to each row of the matrix x,\n",
    "# storing the result in the matrix y\n",
    "x = np.array([[1,2,3], [4,5,6], [7,8,9], [10, 11, 12]])\n",
    "v = np.array([1, 0, 1])\n",
    "y = np.empty_like(x) # Create an empty matrix with the same shape as x\n",
    "# 0初始化\n",
    "y = np.zeros(x.shape)\n",
    "y = np.ones(x.shape)\n",
    "# Add the vector v to each row of the matrix x with an explicit loop\n",
    "for i in range(4):\n",
    "    y[i, :] = x[i, :] * v\n",
    "\n",
    "# Now y is the following\n",
    "# [[ 2 2 4]\n",
    "# [ 5 5 7]\n",
    "# [ 8 8 10]\n",
    "# [11 11 13]]\n",
    "print(y)"
   ]
  },
  {
   "cell_type": "code",
   "execution_count": 58,
   "id": "406a5f5a",
   "metadata": {},
   "outputs": [
    {
     "name": "stdout",
     "output_type": "stream",
     "text": [
      "a========\n",
      "[1 2 3]\n",
      "b========\n",
      "[2 3 4]\n",
      "vertical result\n",
      "[[1 2 3]\n",
      " [2 3 4]]\n",
      "Hori result\n",
      "[1 2 3 2 3 4]\n",
      "[[1 2]\n",
      " [3 4]\n",
      " [5 6]]   concatenate  axis=0\n",
      "[[1 2 5]\n",
      " [3 4 6]]   concatenate  axis=1\n",
      "[1 2 3 4 5 6]   concatenate  axis= none\n"
     ]
    }
   ],
   "source": [
    "a = np.array([1, 2, 3])\n",
    "b = np.array([2, 3, 4])\n",
    "print(\"a========\")\n",
    "print(a)\n",
    "print(\"b========\")\n",
    "print(b)\n",
    "\n",
    "vertical_stack = np.vstack((a,b))\n",
    "print(\"vertical result\")\n",
    "print(vertical_stack)\n",
    "\n",
    "horizontal_stack = np.hstack((a,b))\n",
    "print(\"Hori result\")\n",
    "print(horizontal_stack)\n",
    "\n",
    "\n",
    "a = np.array([[1, 2], [3, 4]])\n",
    "b = np.array([[5, 6]])\n",
    "ab = np.concatenate((a, b), axis=0)\n",
    "print(ab, '  concatenate  axis=0')\n",
    "\n",
    "ab = np.concatenate((a, b.T), axis=1)  # note b.T is same is b.transpose()\n",
    "print(ab, '  concatenate  axis=1')\n",
    "\n",
    "ab = np.concatenate((a, b), axis=None)\n",
    "print(ab, '  concatenate  axis= none')"
   ]
  }
 ],
 "metadata": {
  "kernelspec": {
   "display_name": "Python 3 (ipykernel)",
   "language": "python",
   "name": "python3"
  },
  "language_info": {
   "codemirror_mode": {
    "name": "ipython",
    "version": 3
   },
   "file_extension": ".py",
   "mimetype": "text/x-python",
   "name": "python",
   "nbconvert_exporter": "python",
   "pygments_lexer": "ipython3",
   "version": "3.9.12"
  }
 },
 "nbformat": 4,
 "nbformat_minor": 5
}
